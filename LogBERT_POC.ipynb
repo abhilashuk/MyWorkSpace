{
  "nbformat": 4,
  "nbformat_minor": 0,
  "metadata": {
    "colab": {
      "name": "Untitled0.ipynb",
      "provenance": [],
      "collapsed_sections": [],
      "authorship_tag": "ABX9TyMFDRNqphRtWEqM0CVDzKoz",
      "include_colab_link": true
    },
    "kernelspec": {
      "name": "python3",
      "display_name": "Python 3"
    },
    "language_info": {
      "name": "python"
    }
  },
  "cells": [
    {
      "cell_type": "markdown",
      "metadata": {
        "id": "view-in-github",
        "colab_type": "text"
      },
      "source": [
        "<a href=\"https://colab.research.google.com/github/abhilashuk/MyWorkSpace/blob/master/LogBERT_POC.ipynb\" target=\"_parent\"><img src=\"https://colab.research.google.com/assets/colab-badge.svg\" alt=\"Open In Colab\"/></a>"
      ]
    },
    {
      "cell_type": "code",
      "execution_count": 1,
      "metadata": {
        "colab": {
          "base_uri": "https://localhost:8080/"
        },
        "id": "s6vHuGEbrN-n",
        "outputId": "1cb99050-4298-4b5f-bc59-c7a814a209ce"
      },
      "outputs": [
        {
          "output_type": "stream",
          "name": "stdout",
          "text": [
            "os.environ=environ({'NV_LIBCUBLAS_DEV_VERSION': '11.3.0.106-1', 'NV_CUDA_COMPAT_PACKAGE': 'cuda-compat-11-1', 'NV_CUDNN_PACKAGE_DEV': 'libcudnn8-dev=8.0.5.39-1+cuda11.1', 'LD_LIBRARY_PATH': '/usr/local/nvidia/lib:/usr/local/nvidia/lib64', 'NV_LIBNCCL_DEV_PACKAGE': 'libnccl-dev=2.8.4-1+cuda11.1', 'CLOUDSDK_PYTHON': 'python3', 'LANG': 'en_US.UTF-8', 'NV_LIBNPP_DEV_PACKAGE': 'libnpp-dev-11-1=11.1.2.301-1', 'HOSTNAME': '9e9ca84cabe7', 'OLDPWD': '/', 'CLOUDSDK_CONFIG': '/content/.config', 'NV_LIBNPP_VERSION': '11.1.2.301-1', 'NV_NVPROF_DEV_PACKAGE': 'cuda-nvprof-11-1=11.1.105-1', 'NVIDIA_VISIBLE_DEVICES': 'all', 'NV_NVPROF_VERSION': '11.1.105-1', 'NV_LIBCUSPARSE_VERSION': '11.3.0.10-1', 'DATALAB_SETTINGS_OVERRIDES': '{\"kernelManagerProxyPort\":6000,\"kernelManagerProxyHost\":\"172.28.0.3\",\"jupyterArgs\":[\"--ip=172.28.0.2\"],\"debugAdapterMultiplexerPath\":\"/usr/local/bin/dap_multiplexer\",\"enableLsp\":true}', 'NV_LIBCUBLAS_DEV_PACKAGE': 'libcublas-dev-11-1=11.3.0.106-1', 'ENV': '/root/.bashrc', 'NCCL_VERSION': '2.8.4-1', 'TF_FORCE_GPU_ALLOW_GROWTH': 'true', 'NO_GCE_CHECK': 'False', 'PWD': '/', 'NVARCH': 'x86_64', 'HOME': '/root', 'NV_LIBCUSPARSE_DEV_VERSION': '11.3.0.10-1', 'LAST_FORCED_REBUILD': '20220811', 'NV_LIBNCCL_PACKAGE_VERSION': '2.8.4-1', 'NV_LIBNCCL_PACKAGE': 'libnccl2=2.8.4-1+cuda11.1', 'DEBIAN_FRONTEND': 'noninteractive', 'NV_LIBNCCL_DEV_PACKAGE_NAME': 'libnccl-dev', 'NV_CUDA_LIB_VERSION': '11.1.1-1', 'NV_LIBNPP_PACKAGE': 'libnpp-11-1=11.1.2.301-1', 'NV_LIBNCCL_PACKAGE_NAME': 'libnccl2', 'LIBRARY_PATH': '/usr/local/cuda/lib64/stubs', 'NV_NVTX_VERSION': '11.1.74-1', 'NV_LIBCUBLAS_VERSION': '11.3.0.106-1', 'NV_LIBCUBLAS_PACKAGE': 'libcublas-11-1=11.3.0.106-1', 'GCE_METADATA_TIMEOUT': '3', 'NV_CUDNN_VERSION': '8.0.5.39', 'NV_CUDA_CUDART_DEV_VERSION': '11.1.74-1', 'GLIBCPP_FORCE_NEW': '1', 'TBE_CREDS_ADDR': '172.28.0.1:8008', 'SHELL': '/bin/bash', 'GCS_READ_CACHE_BLOCK_SIZE_MB': '16', 'NV_NVML_DEV_VERSION': '11.1.74-1', 'PYTHONWARNINGS': 'ignore:::pip._internal.cli.base_command', 'CUDA_VERSION': '11.1.1', 'NV_LIBCUBLAS_PACKAGE_NAME': 'libcublas-11-1', 'NVIDIA_DRIVER_CAPABILITIES': 'compute,utility', 'SHLVL': '0', 'PYTHONPATH': '/env/python', 'NV_LIBCUBLAS_DEV_PACKAGE_NAME': 'libcublas-dev-11-1', 'NVIDIA_REQUIRE_CUDA': 'cuda>=11.1 brand=tesla,driver>=418,driver<419 brand=tesla,driver>=450,driver<451', 'NV_LIBNPP_DEV_VERSION': '11.1.2.301-1', 'TBE_EPHEM_CREDS_ADDR': '172.28.0.1:8009', 'NV_CUDA_CUDART_VERSION': '11.1.74-1', 'COLAB_GPU': '0', 'NV_CUDNN_PACKAGE_NAME': 'libcudnn8', 'GLIBCXX_FORCE_NEW': '1', 'PATH': '/opt/bin:/usr/local/nvidia/bin:/usr/local/cuda/bin:/usr/local/sbin:/usr/local/bin:/usr/sbin:/usr/bin:/sbin:/bin:/tools/node/bin:/tools/google-cloud-sdk/bin', 'NV_LIBNCCL_DEV_PACKAGE_VERSION': '2.8.4-1', 'LD_PRELOAD': '/usr/lib/x86_64-linux-gnu/libtcmalloc.so.4', 'NV_CUDNN_PACKAGE': 'libcudnn8=8.0.5.39-1+cuda11.1', 'JPY_PARENT_PID': '43', 'TERM': 'xterm-color', 'CLICOLOR': '1', 'PAGER': 'cat', 'GIT_PAGER': 'cat', 'MPLBACKEND': 'module://ipykernel.pylab.backend_inline', 'ENABLE_DIRECTORYPREFETCHER': '1', 'USE_AUTH_EPHEM': '1', 'PYDEVD_USE_FRAME_EVAL': 'NO'})\n",
            "sys.argv=['/usr/local/lib/python3.7/dist-packages/ipykernel_launcher.py', '-f', '/root/.local/share/jupyter/runtime/kernel-737ee397-940f-4a2d-a756-2153dc057557.json']\n",
            "MLFLOW_TRACKING_URINone\n",
            "sys.executable=/usr/bin/python3\n",
            "sys.path=['/content', '/env/python', '/usr/lib/python37.zip', '/usr/lib/python3.7', '/usr/lib/python3.7/lib-dynload', '', '/usr/local/lib/python3.7/dist-packages', '/usr/lib/python3/dist-packages', '/usr/local/lib/python3.7/dist-packages/IPython/extensions', '/root/.ipython']\n"
          ]
        }
      ],
      "source": [
        "import os\n",
        "import sys\n",
        "\n",
        "print(f'os.environ={os.environ}')\n",
        "print(f'sys.argv={sys.argv}')\n",
        "print(f\"MLFLOW_TRACKING_URI{os.environ.get('MLFLOW_TRACKING_URI')}\")\n",
        "print(f\"sys.executable={sys.executable}\")\n",
        "print(f\"sys.path={sys.path}\")"
      ]
    }
  ]
}